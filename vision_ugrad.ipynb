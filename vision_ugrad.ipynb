{
 "cells": [
  {
   "cell_type": "markdown",
   "metadata": {},
   "source": [
    "\n",
    "<div class=\"container\">\n",
    "\n",
    "<ul style=\"list-style-type: none;margin: 0;padding: 0;overflow: hidden;background-color: #333;\">\n",
    "  <li style=\"float: left;\"><a class=\"active\" style=\"display: block;color: white;text-align: center;padding: 14px 16px;text-decoration: none;background-color: #4CAF50;\">Navigation</a></li>\n",
    "  <li style=\"float: left;\"><a href=\"#hist\" style=\"display: block;color: #dfe6e9;text-align: center;padding: 14px 16px;text-decoration: none;\">BoW Histograms</a></li>\n",
    "  <li style=\"float: left;\"><a href=\"#expk\" style=\"display: block;color: #dfe6e9;text-align: center;padding: 14px 16px;text-decoration: none;\">Experiment on k</a></li>\n",
    "  <li style=\"float: left;\"><a href=\"#expc\" style=\"display: block;color: #dfe6e9;text-align: center;padding: 14px 16px;text-decoration: none;\">Experiment on C</a></li>\n",
    "  <li style=\"float: left;\"><a href=\"#eval\" style=\"display: block;color: #dfe6e9;text-align: center;padding: 14px 16px;text-decoration: none;\">Evaluation</a></li>\n",
    "  <li style=\"float: left;\"><a href=\"#competition\" style=\"display: block;color: #dfe6e9;text-align: center;padding: 14px 16px;text-decoration: none;\">Competition</a></li>\n",
    "</ul>\n",
    "<div class=\"jumbotron\">\n",
    "    <h1 style=\"font-weight: bold; font-size: 2em;\">Computer Vision: Homework 5</h1>      \n",
    "    <p style=\"margin-bottom: 1em; font-family: sans-serif; text-align: justify;\">\n",
    "        Zicong Fan, 11205168;\n",
    "        CS ID: fan\n",
    "    </p>\n",
    "</div>    \n",
    "\n",
    "\n",
    "</div>"
   ]
  },
  {
   "cell_type": "code",
   "execution_count": 1,
   "metadata": {},
   "outputs": [],
   "source": [
    "import numpy as np\n",
    "import os\n",
    "import glob\n",
    "\n",
    "import itertools\n",
    "import matplotlib.pyplot as plt\n",
    "\n",
    "from sklearn.cluster import KMeans\n",
    "from sklearn.metrics import confusion_matrix\n",
    "from sklearn.neighbors import KNeighborsClassifier\n",
    "from sklearn.svm import LinearSVC\n",
    "\n",
    "np.random.seed(2)"
   ]
  },
  {
   "cell_type": "markdown",
   "metadata": {},
   "source": [
    "## Non-modified Routines"
   ]
  },
  {
   "cell_type": "code",
   "execution_count": 2,
   "metadata": {},
   "outputs": [],
   "source": [
    "def sample_images(ds_path, n_sample):\n",
    "    \"\"\" Sample images from the training/testing dataset.\n",
    "\n",
    "    Parameters\n",
    "    ----------\n",
    "    ds_path: path to the training/testing dataset.\n",
    "             e.g., sift/train or sift/test\n",
    "    n_sample: the number of images you want to sample from the dataset.\n",
    "              if None, use the entire dataset. \n",
    "    \n",
    "    Returns\n",
    "    -------\n",
    "    image_paths: a (n_sample, 1) array that contains the paths to the descriptors. \n",
    "    \"\"\"\n",
    "    # Grab a list of paths that matches the pathname\n",
    "    files = glob.glob(os.path.join(ds_path, \"*\", \"*.txt\"))\n",
    "    n_files = len(files)\n",
    "\n",
    "    if n_sample == None:\n",
    "        n_sample = n_files\n",
    "\n",
    "    # Randomly sample from the training/testing dataset\n",
    "    # Depending on the purpose, we might not need to use the entire dataset\n",
    "    idx = np.random.choice(n_files, size=n_sample, replace=False)\n",
    "    image_paths = np.asarray(files)[idx]\n",
    " \n",
    "    # Get class labels\n",
    "    classes = glob.glob(os.path.join(ds_path, \"*\"))\n",
    "    labels = np.zeros(n_sample)\n",
    "\n",
    "    for i, path in enumerate(image_paths):\n",
    "        folder, fn = os.path.split(path)\n",
    "        labels[i] = np.argwhere(np.core.defchararray.equal(classes, folder))[0,0]\n",
    "\n",
    "    return image_paths, labels\n"
   ]
  },
  {
   "cell_type": "markdown",
   "metadata": {},
   "source": [
    "## Self-written or modified routines\n",
    "### Feature Extraction Routines"
   ]
  },
  {
   "cell_type": "code",
   "execution_count": 3,
   "metadata": {},
   "outputs": [
    {
     "name": "stdout",
     "output_type": "stream",
     "text": [
      "Getting paths and labels for all train and test data\n",
      "\n",
      "Extracting SIFT features\n",
      "\n"
     ]
    }
   ],
   "source": [
    "def build_vocabulary(image_paths, vocab_size):\n",
    "    \"\"\" Sample SIFT descriptors, cluster them using k-means, and return the fitted k-means model.\n",
    "    NOTE: We don't necessarily need to use the entire training dataset. You can use the function\n",
    "    sample_images() to sample a subset of images, and pass them into this function.\n",
    "\n",
    "    Parameters\n",
    "    ----------\n",
    "    image_paths: an (n_image, 1) array of image paths.\n",
    "    vocab_size: the number of clusters desired.\n",
    "    \n",
    "    Returns\n",
    "    -------\n",
    "    kmeans: the fitted k-means clustering model.\n",
    "    \"\"\"\n",
    "    n_image = len(image_paths)\n",
    "\n",
    "    # Since want to sample tens of thousands of SIFT descriptors from different images, we\n",
    "    # calculate the number of SIFT descriptors we need to sample from each image.\n",
    "    n_each = int(np.ceil(20000 / n_image))  # You can adjust 10000 if more is desired\n",
    "    \n",
    "    # Initialize an array of features, which will store the sampled descriptors\n",
    "    features = np.zeros((n_image * n_each, 128))\n",
    "    \n",
    "    start_i = 0 # current index to insert new descriptors into 'features'\n",
    "    \n",
    "    # TODO: Randomly sample n_each features from descriptors, and store them in features\n",
    "    for i, path in enumerate(image_paths):\n",
    "        # Load SIFT features from path\n",
    "        descriptors = np.loadtxt(path, delimiter=',',dtype=float)\n",
    "        \n",
    "        # number of descriptors in this image\n",
    "        max_len = descriptors.shape[0]\n",
    "        \n",
    "        \n",
    "        if n_each <= max_len: \n",
    "            # choose `n_each` descriptors out of `max_len` descriptors with no replacement. \n",
    "            ind = np.random.choice(max_len, n_each, replace=False) \n",
    "            features[start_i:(start_i+n_each)] = descriptors[ind]\n",
    "            \n",
    "            # update the starting index of the next iteration\n",
    "            start_i += n_each\n",
    "        else: \n",
    "            # add all descriptors (because we don't have `n_each` amount)\n",
    "            features[start_i:(start_i+descriptors.shape[0])] = descriptors\n",
    "            \n",
    "            # update the starting index of the next iteration\n",
    "            start_i += descriptors.shape[0]\n",
    "\n",
    "    # `start_i` also denotes the number of added descriptor\n",
    "    features = features[:start_i] # remove remaining unused space\n",
    "        \n",
    "    \n",
    "    # TODO: pefrom k-means clustering to cluster sampled SIFT features into vocab_size regions.\n",
    "    kmeans = KMeans(n_clusters=vocab_size, random_state=0, max_iter=10000).fit(features)\n",
    "    \n",
    "    return kmeans\n",
    "\n",
    "def get_bags_of_sifts(image_paths, kmeans):\n",
    "    \"\"\" Represent each image as bags of SIFT features histogram.\n",
    "\n",
    "    Parameters\n",
    "    ----------\n",
    "    image_paths: an (n_image, 1) array of image paths.\n",
    "    kmeans: k-means clustering model with vocab_size centroids.\n",
    "\n",
    "    Returns\n",
    "    -------\n",
    "    image_feats: an (n_image, vocab_size) matrix, where each row is a histogram.\n",
    "    \"\"\"\n",
    "    n_image = len(image_paths)\n",
    "    vocab_size = kmeans.cluster_centers_.shape[0]\n",
    "\n",
    "    image_feats = np.zeros((n_image, vocab_size))\n",
    "\n",
    "    for i, path in enumerate(image_paths):\n",
    "        # Load SIFT descriptors\n",
    "        descriptors = np.loadtxt(path, delimiter=',',dtype=float)\n",
    "        \n",
    "        # TODO: Assign each descriptor to the closest cluster center\n",
    "        labels = kmeans.predict(descriptors)\n",
    "        \n",
    "        # TODO: Build a histogram normalized by the number of descriptors\n",
    "        hist = np.zeros(kmeans.n_clusters)\n",
    "        # count the occurance of assigned clustered for descriptors in an image. \n",
    "        for label in labels: \n",
    "            hist[label] = hist[label] + 1.0 # float for division later\n",
    "        \n",
    "        # normalize histogram to sum to 1\n",
    "        hist = hist/descriptors.shape[0]\n",
    "        \n",
    "        # sanity check\n",
    "        assert abs(sum(hist)-1.0) < 1e-9, \"Histogram should sum to 1.\"\n",
    "        \n",
    "        # store the histogram for this image\n",
    "        image_feats[i] = hist\n",
    "\n",
    "    return image_feats\n",
    "\n",
    "print('Getting paths and labels for all train and test data\\n')\n",
    "train_image_paths, train_labels = sample_images(\"sift/train\", n_sample=1500)\n",
    "test_image_paths, test_labels = sample_images(\"sift/test\", n_sample=500)\n",
    "\n",
    "\n",
    "print('Extracting SIFT features\\n')\n",
    "kmeans = build_vocabulary(train_image_paths, vocab_size=200)\n",
    "\n",
    "# get images in BoW forms (200 dimensions to represent each image)\n",
    "train_image_feats = get_bags_of_sifts(train_image_paths, kmeans)\n",
    "test_image_feats = get_bags_of_sifts(test_image_paths, kmeans)"
   ]
  },
  {
   "cell_type": "markdown",
   "metadata": {},
   "source": [
    "### Evaluation Routines"
   ]
  },
  {
   "cell_type": "code",
   "execution_count": 32,
   "metadata": {},
   "outputs": [],
   "source": [
    "# get the accuracy of classification (between 0 and 1)\n",
    "def getAccuracy(y_true, y_pred): \n",
    "    return 1.0*sum(y_true == y_pred)/y_true.shape[0]\n",
    "\n",
    "# get the name strings of each class\n",
    "def getClassNames(): \n",
    "    \n",
    "    # get names from train and test classes\n",
    "    classes = glob.glob(os.path.join(\"sift/train\", \"*\"))\n",
    "    \n",
    "    # remove prefix, e.g. 'sift/train/Forest' becomes 'Forest'\n",
    "    L = [s.replace('sift/train/', '') for s in classes]\n",
    "    classes = glob.glob(os.path.join(\"sift/test\", \"*\"))\n",
    "    R = [s.replace('sift/test/', '') for s in classes]\n",
    "    \n",
    "    # the label names for train and test data should the same\n",
    "    # just a sanity check\n",
    "    assert L == R, 'label names or order do not match'\n",
    "    return L\n",
    "\n",
    "# This function plots the confusion matrix with color. \n",
    "# It is provided by the sklearn website. \n",
    "# According to the professor, we are allowed to use the sklearn's confusion matrix util. \n",
    "# Cite: https://scikit-learn.org/stable/auto_examples/model_selection/plot_confusion_matrix.html\n",
    "def plot_confusion_matrix(cm, classes,\n",
    "                          normalize=False,\n",
    "                          title='Confusion matrix',\n",
    "                          cmap=plt.cm.Blues):\n",
    "    \"\"\"\n",
    "    This function prints and plots the confusion matrix.\n",
    "    Normalization can be applied by setting `normalize=True`.\n",
    "    \"\"\"\n",
    "    if normalize:\n",
    "        cm = cm.astype('float') / cm.sum(axis=1)[:, np.newaxis]\n",
    "\n",
    "    plt.imshow(cm, interpolation='nearest', cmap=cmap)\n",
    "    plt.title(title)\n",
    "    plt.colorbar()\n",
    "    tick_marks = np.arange(len(classes))\n",
    "    plt.xticks(tick_marks, classes, rotation=45)\n",
    "    plt.yticks(tick_marks, classes)\n",
    "\n",
    "    fmt = '.2f' if normalize else 'd'\n",
    "    thresh = cm.max() / 2.\n",
    "    for i, j in itertools.product(range(cm.shape[0]), range(cm.shape[1])):\n",
    "        plt.text(j, i, format(cm[i, j], fmt),\n",
    "                 horizontalalignment=\"center\",\n",
    "                 color=\"white\" if cm[i, j] > thresh else \"black\")\n",
    "\n",
    "    plt.ylabel('True label')\n",
    "    plt.xlabel('Predicted label')\n",
    "    plt.tight_layout()\n",
    "\n",
    "    \n",
    "# evaluate performance of classifications\n",
    "def evaluate(y_true, y_pred): \n",
    "    # compute the confusion matrix\n",
    "    # Professor says we can use the confusion matrix library. \n",
    "    # https://piazza.com/class/jkx37y3y5xj2e8?cid=283\n",
    "    cm = confusion_matrix(y_true, y_pred);\n",
    "    \n",
    "    # get names of all labels\n",
    "    classes = getClassNames() \n",
    "    \n",
    "    # visualize the matrix in color\n",
    "    plot_confusion_matrix(cm, classes)\n",
    "    \n",
    "    # print accuracy of classification\n",
    "    print(\"The accuracy is %.4f\"%(getAccuracy(y_true, y_pred)))"
   ]
  },
  {
   "cell_type": "markdown",
   "metadata": {},
   "source": [
    "### Plot histogram routines"
   ]
  },
  {
   "cell_type": "code",
   "execution_count": 5,
   "metadata": {},
   "outputs": [],
   "source": [
    "def plot_average_hist(image_paths_of_cat, kmeans): \n",
    "    # plot title with category name\n",
    "    plt.title(image_paths_of_cat)\n",
    "    \n",
    "    # agument the path for data reading\n",
    "    prefix = \"sift/train/\"\n",
    "    postfix = \"/*\"\n",
    "    image_paths_of_cat = prefix + image_paths_of_cat + postfix\n",
    "    \n",
    "    # extract all images paths from one category\n",
    "    paths = glob.glob(os.path.join(image_paths_of_cat))\n",
    "    \n",
    "    # extract SIFT features of images\n",
    "    image_feats = get_bags_of_sifts(paths, kmeans)\n",
    "    \n",
    "    # compute average of each category\n",
    "    mean_hist = np.mean(image_feats, axis=0)\n",
    "    mean_hist = mean_hist / mean_hist.sum() ## renormalize\n",
    "    \n",
    "    # plot histogram for 1 category\n",
    "    plt.bar(range(kmeans.n_clusters), mean_hist)\n",
    "    plt.ylim((0, 0.04)) # use the same scale to plot\n",
    "    plt.xlabel(\"Cluster ids\")\n",
    "    plt.ylabel(\"Fraction\")\n",
    "    plt.show()"
   ]
  },
  {
   "cell_type": "markdown",
   "metadata": {},
   "source": [
    "<div id=\"hist\"></div>"
   ]
  },
  {
   "cell_type": "markdown",
   "metadata": {},
   "source": [
    "## Plot average histograms"
   ]
  },
  {
   "cell_type": "code",
   "execution_count": 6,
   "metadata": {},
   "outputs": [
    {
     "data": {
      "image/png": "[encoded data removed]",
      "text/plain": [
       "<Figure size 1080x1800 with 1 Axes>"
      ]
     },
     "metadata": {
      "needs_background": "light"
     },
     "output_type": "display_data"
    },
    {
     "data": {
      "image/png": "[encoded data removed]",
      "text/plain": [
       "<Figure size 1080x1800 with 1 Axes>"
      ]
     },
     "metadata": {
      "needs_background": "light"
     },
     "output_type": "display_data"
    },
    {
     "data": {
      "image/png": "[encoded data removed]",
      "text/plain": [
       "<Figure size 1080x1800 with 1 Axes>"
      ]
     },
     "metadata": {
      "needs_background": "light"
     },
     "output_type": "display_data"
    },
    {
     "data": {
      "image/png": "[encoded data removed]",
      "text/plain": [
       "<Figure size 1080x1800 with 1 Axes>"
      ]
     },
     "metadata": {
      "needs_background": "light"
     },
     "output_type": "display_data"
    },
    {
     "data": {
      "image/png": "[encoded data removed]",
      "text/plain": [
       "<Figure size 1080x1800 with 1 Axes>"
      ]
     },
     "metadata": {
      "needs_background": "light"
     },
     "output_type": "display_data"
    },
    {
     "data": {
      "image/png": "[encoded data removed]",
      "text/plain": [
       "<Figure size 1080x1800 with 1 Axes>"
      ]
     },
     "metadata": {
      "needs_background": "light"
     },
     "output_type": "display_data"
    },
    {
     "data": {
      "image/png": "[encoded data removed]",
      "text/plain": [
       "<Figure size 1080x1800 with 1 Axes>"
      ]
     },
     "metadata": {
      "needs_background": "light"
     },
     "output_type": "display_data"
    },
    {
     "data": {
      "image/png": "[encoded data removed]",
      "text/plain": [
       "<Figure size 1080x1800 with 1 Axes>"
      ]
     },
     "metadata": {
      "needs_background": "light"
     },
     "output_type": "display_data"
    },
    {
     "data": {
      "image/png": "[encoded data removed]",
      "text/plain": [
       "<Figure size 1080x1800 with 1 Axes>"
      ]
     },
     "metadata": {
      "needs_background": "light"
     },
     "output_type": "display_data"
    },
    {
     "data": {
      "image/png": "[encoded data removed]",
      "text/plain": [
       "<Figure size 1080x1800 with 1 Axes>"
      ]
     },
     "metadata": {
      "needs_background": "light"
     },
     "output_type": "display_data"
    },
    {
     "data": {
      "image/png": "[encoded data removed]",
      "text/plain": [
       "<Figure size 1080x1800 with 1 Axes>"
      ]
     },
     "metadata": {
      "needs_background": "light"
     },
     "output_type": "display_data"
    },
    {
     "data": {
      "image/png": "[encoded data removed]",
      "text/plain": [
       "<Figure size 1080x1800 with 1 Axes>"
      ]
     },
     "metadata": {
      "needs_background": "light"
     },
     "output_type": "display_data"
    },
    {
     "data": {
      "image/png": "[encoded data removed]",
      "text/plain": [
       "<Figure size 1080x1800 with 1 Axes>"
      ]
     },
     "metadata": {
      "needs_background": "light"
     },
     "output_type": "display_data"
    },
    {
     "data": {
      "image/png": "[encoded data removed]",
      "text/plain": [
       "<Figure size 1080x1800 with 1 Axes>"
      ]
     },
     "metadata": {
      "needs_background": "light"
     },
     "output_type": "display_data"
    },
    {
     "data": {
      "image/png": "[encoded data removed]",
      "text/plain": [
       "<Figure size 1080x1800 with 1 Axes>"
      ]
     },
     "metadata": {
      "needs_background": "light"
     },
     "output_type": "display_data"
    }
   ],
   "source": [
    "categories = getClassNames()\n",
    "for i, c in enumerate(categories): \n",
    "    plt.figure(figsize=(15,25)) # figure size\n",
    "    plt.subplot(15, 1, i+1) # plot in the same figure\n",
    "    plot_average_hist(c, kmeans) # plot average histogram"
   ]
  },
  {
   "cell_type": "markdown",
   "metadata": {},
   "source": [
    "**How different are the histograms from different classes**: \n",
    "\n",
    "For most classes, the histograms are quite different from each other. For example, histograms for some classes are more uniform (such as `industrial`, `suburb` and `store`) while the others have many significant peaks in its histogram (such as `coast`,  `tallBuilding`, and `highway`). In particular, `store ` tends to have shorter histogram bars and most bars have similar lengths while `forest` has very long bars and its bars have very different lengths. The confusion matrix below confirms this hypothesis (both classifiers barely misclassify the two classes).\n",
    "\n",
    "**Which classes you may believe to be hardest to separate**: \n",
    "\n",
    "The histograms of `openCountry` and `mountain` look very similar. Therefore, this pair is the hardest to separate. In detail, both `openCountry` and `mountain` have a \"local min\" in histogram at around cluster `100`, a very similar shape in the interval `[0, 25]`, and a small \"bell shape\" in the interval `[100, 125]`. In fact, it makes sense, because in real life, countryside and moutain have very similar appeareance (such as grass and trees). Additionally, the confusion matrix in the below, it confirms the hypothesis.\n"
   ]
  },
  {
   "cell_type": "markdown",
   "metadata": {},
   "source": [
    "## ML Models"
   ]
  },
  {
   "cell_type": "markdown",
   "metadata": {},
   "source": [
    "Since the instruction only requires showing how to pick `n_neigbors` (`k`) and `C`, and there are exponential amount of hyper-parameter combination, to make this report concise, I only provide the experiment on choosing the hyperparameter `n_neigbors` and `C`. The experiemnts are available in the section `Experiment with k for KNN` and `Experiment with C for SVM`."
   ]
  },
  {
   "cell_type": "code",
   "execution_count": 7,
   "metadata": {},
   "outputs": [],
   "source": [
    "def nearest_neighbor_classify(train_image_feats, train_labels, test_image_feats):    \n",
    "    # use cosine similarity as distance metric\n",
    "    # use 12 neigbours to vote\n",
    "    # weight the votes of its k-neigbours according to distance to the input feature\n",
    "    knn = KNeighborsClassifier(metric=\"cosine\", weights=\"distance\", n_neighbors=12)\n",
    "    \n",
    "    # fit and predict \n",
    "    knn.fit(train_image_feats, train_labels)\n",
    "    predicted_labels = knn.predict(test_image_feats)\n",
    "    return predicted_labels\n",
    "\n",
    "def svm_classify(train_image_feats, train_labels, test_image_feats):\n",
    "    # the documentation suggest using 'dual=False' when there are lots of data. \n",
    "    svm = LinearSVC(random_state=0, tol=1e-6, dual=False, loss='squared_hinge', C=24)\n",
    "    \n",
    "    # fit and predict\n",
    "    svm.fit(train_image_feats, train_labels)\n",
    "    predicted_labels = svm.predict(test_image_feats)\n",
    "    return predicted_labels"
   ]
  },
  {
   "cell_type": "markdown",
   "metadata": {},
   "source": [
    "### Evaluate"
   ]
  },
  {
   "cell_type": "code",
   "execution_count": 8,
   "metadata": {},
   "outputs": [
    {
     "name": "stdout",
     "output_type": "stream",
     "text": [
      "Using nearest neighbor classifier to predict test set categories\n",
      "\n",
      "Using support vector machine to predict test set categories\n",
      "\n"
     ]
    }
   ],
   "source": [
    "print('Using nearest neighbor classifier to predict test set categories\\n')\n",
    "pred_labels_knn = nearest_neighbor_classify(train_image_feats, train_labels, test_image_feats)\n",
    "  \n",
    "\n",
    "print('Using support vector machine to predict test set categories\\n')\n",
    "pred_labels_svm = svm_classify(train_image_feats, train_labels, test_image_feats)"
   ]
  },
  {
   "cell_type": "markdown",
   "metadata": {},
   "source": [
    "<div id=\"expk\"></div>"
   ]
  },
  {
   "cell_type": "markdown",
   "metadata": {},
   "source": [
    "### Experiment with `k` for KNN\n",
    "The following code splits train data into train and validation set to experiment on different `k`. From the result, we could see that, if `k` is too small, the accuracy is limited to `0.34`. However, as `k` increases, the accuracy increases as well. The accuracy reaches the maximum when `k=12` and the accuracy starts to decrease. \n",
    "\n",
    "It makes sense because the smaller `k`, we have a simpler KNN model, which implies `underfitting`; with a bigger `k`, it starts to `overfit` and thus decrease in test performance."
   ]
  },
  {
   "cell_type": "code",
   "execution_count": 9,
   "metadata": {},
   "outputs": [],
   "source": [
    "def knn_experiment_k(X_train, y_train, X_test, y_test, k):\n",
    "    # linesearch on k while keep the other hyper-parameter fixed\n",
    "    knn = KNeighborsClassifier(metric=\"cosine\", weights=\"distance\", n_neighbors=k)\n",
    "    knn.fit(X_train, y_train)\n",
    "    predicted_labels = knn.predict(X_test)\n",
    "    accuracy = 1.0*sum(y_test == predicted_labels)/y_test.shape[0]\n",
    "    print(\"Accuracy of knn (k = %d) is %.2f\" %(k, accuracy))"
   ]
  },
  {
   "cell_type": "code",
   "execution_count": 10,
   "metadata": {},
   "outputs": [
    {
     "name": "stdout",
     "output_type": "stream",
     "text": [
      "Accuracy of knn (k = 1) is 0.34\n",
      "Accuracy of knn (k = 2) is 0.34\n",
      "Accuracy of knn (k = 3) is 0.36\n",
      "Accuracy of knn (k = 4) is 0.38\n",
      "Accuracy of knn (k = 5) is 0.40\n",
      "Accuracy of knn (k = 6) is 0.41\n",
      "Accuracy of knn (k = 7) is 0.40\n",
      "Accuracy of knn (k = 8) is 0.42\n",
      "Accuracy of knn (k = 9) is 0.41\n",
      "Accuracy of knn (k = 10) is 0.41\n",
      "Accuracy of knn (k = 11) is 0.41\n",
      "Accuracy of knn (k = 12) is 0.43\n",
      "Accuracy of knn (k = 13) is 0.41\n",
      "Accuracy of knn (k = 14) is 0.41\n",
      "Accuracy of knn (k = 15) is 0.40\n",
      "Accuracy of knn (k = 16) is 0.40\n",
      "Accuracy of knn (k = 17) is 0.41\n",
      "Accuracy of knn (k = 18) is 0.40\n",
      "Accuracy of knn (k = 19) is 0.40\n",
      "Accuracy of knn (k = 20) is 0.41\n",
      "Accuracy of knn (k = 21) is 0.41\n",
      "Accuracy of knn (k = 22) is 0.42\n",
      "Accuracy of knn (k = 23) is 0.41\n",
      "Accuracy of knn (k = 24) is 0.40\n",
      "Accuracy of knn (k = 25) is 0.39\n",
      "Accuracy of knn (k = 26) is 0.40\n",
      "Accuracy of knn (k = 27) is 0.40\n",
      "Accuracy of knn (k = 28) is 0.40\n",
      "Accuracy of knn (k = 29) is 0.39\n",
      "Accuracy of knn (k = 30) is 0.40\n",
      "Accuracy of knn (k = 31) is 0.41\n",
      "Accuracy of knn (k = 32) is 0.41\n",
      "Accuracy of knn (k = 33) is 0.41\n",
      "Accuracy of knn (k = 34) is 0.42\n",
      "Accuracy of knn (k = 35) is 0.41\n",
      "Accuracy of knn (k = 36) is 0.41\n",
      "Accuracy of knn (k = 37) is 0.40\n",
      "Accuracy of knn (k = 38) is 0.41\n",
      "Accuracy of knn (k = 39) is 0.40\n",
      "Accuracy of knn (k = 40) is 0.39\n",
      "Accuracy of knn (k = 41) is 0.40\n",
      "Accuracy of knn (k = 42) is 0.39\n",
      "Accuracy of knn (k = 43) is 0.39\n",
      "Accuracy of knn (k = 44) is 0.39\n",
      "Accuracy of knn (k = 45) is 0.39\n",
      "Accuracy of knn (k = 46) is 0.39\n",
      "Accuracy of knn (k = 47) is 0.39\n",
      "Accuracy of knn (k = 48) is 0.40\n",
      "Accuracy of knn (k = 49) is 0.39\n",
      "Accuracy of knn (k = 50) is 0.39\n",
      "Accuracy of knn (k = 51) is 0.39\n",
      "Accuracy of knn (k = 52) is 0.38\n",
      "Accuracy of knn (k = 53) is 0.38\n",
      "Accuracy of knn (k = 54) is 0.39\n",
      "Accuracy of knn (k = 55) is 0.39\n",
      "Accuracy of knn (k = 56) is 0.38\n",
      "Accuracy of knn (k = 57) is 0.38\n",
      "Accuracy of knn (k = 58) is 0.37\n",
      "Accuracy of knn (k = 59) is 0.37\n",
      "Accuracy of knn (k = 60) is 0.38\n",
      "Accuracy of knn (k = 61) is 0.37\n",
      "Accuracy of knn (k = 62) is 0.36\n",
      "Accuracy of knn (k = 63) is 0.36\n",
      "Accuracy of knn (k = 64) is 0.36\n",
      "Accuracy of knn (k = 65) is 0.36\n",
      "Accuracy of knn (k = 66) is 0.36\n",
      "Accuracy of knn (k = 67) is 0.36\n",
      "Accuracy of knn (k = 68) is 0.36\n",
      "Accuracy of knn (k = 69) is 0.36\n",
      "Accuracy of knn (k = 70) is 0.37\n",
      "Accuracy of knn (k = 71) is 0.36\n",
      "Accuracy of knn (k = 72) is 0.37\n",
      "Accuracy of knn (k = 73) is 0.37\n",
      "Accuracy of knn (k = 74) is 0.37\n",
      "Accuracy of knn (k = 75) is 0.37\n",
      "Accuracy of knn (k = 76) is 0.37\n",
      "Accuracy of knn (k = 77) is 0.37\n",
      "Accuracy of knn (k = 78) is 0.36\n",
      "Accuracy of knn (k = 79) is 0.36\n",
      "Accuracy of knn (k = 80) is 0.36\n",
      "Accuracy of knn (k = 81) is 0.36\n",
      "Accuracy of knn (k = 82) is 0.36\n",
      "Accuracy of knn (k = 83) is 0.37\n",
      "Accuracy of knn (k = 84) is 0.37\n",
      "Accuracy of knn (k = 85) is 0.37\n",
      "Accuracy of knn (k = 86) is 0.36\n",
      "Accuracy of knn (k = 87) is 0.35\n",
      "Accuracy of knn (k = 88) is 0.35\n",
      "Accuracy of knn (k = 89) is 0.35\n",
      "Accuracy of knn (k = 90) is 0.35\n",
      "Accuracy of knn (k = 91) is 0.35\n",
      "Accuracy of knn (k = 92) is 0.36\n",
      "Accuracy of knn (k = 93) is 0.36\n",
      "Accuracy of knn (k = 94) is 0.36\n",
      "Accuracy of knn (k = 95) is 0.35\n",
      "Accuracy of knn (k = 96) is 0.35\n",
      "Accuracy of knn (k = 97) is 0.35\n",
      "Accuracy of knn (k = 98) is 0.34\n",
      "Accuracy of knn (k = 99) is 0.35\n"
     ]
    }
   ],
   "source": [
    "from sklearn.model_selection import train_test_split\n",
    "\n",
    "# split the training data randomly to train and validation set (80% and 20%)\n",
    "# random_state: the seed used for the randomness\n",
    "X_train, X_val, y_train, y_val = train_test_split(train_image_feats, train_labels, test_size=0.2, random_state=1)\n",
    "\n",
    "# linesearch for the best k\n",
    "for k in range(1, 100, 1): \n",
    "    knn_experiment_k(X_train, y_train, X_val, y_val, k)"
   ]
  },
  {
   "cell_type": "markdown",
   "metadata": {},
   "source": [
    "<div id=\"expc\"></div>"
   ]
  },
  {
   "cell_type": "markdown",
   "metadata": {},
   "source": [
    "### Experiment with `C` for SVM"
   ]
  },
  {
   "cell_type": "code",
   "execution_count": 11,
   "metadata": {},
   "outputs": [],
   "source": [
    "def svm_experiment_c(X_train, y_train, X_test, y_test, c):\n",
    "    # line search on C but keep the other hyper-parameters fixed\n",
    "    svm = LinearSVC(random_state=0, tol=1e-5, dual=False, loss='squared_hinge', C=c)\n",
    "    \n",
    "    # fit and predict\n",
    "    svm.fit(X_train, y_train)\n",
    "    predicted_labels = svm.predict(X_test)\n",
    "    accuracy = 1.0*sum(y_test == predicted_labels)/y_test.shape[0]\n",
    "    \n",
    "    # evaluate accuracy\n",
    "    print(\"Accuracy of svm (c = %d) is %.2f\" %(c, accuracy))"
   ]
  },
  {
   "cell_type": "markdown",
   "metadata": {},
   "source": [
    "Doing a coarse search on the parameter `C`, we can see that the model performs the best when `C` is in the interval about `[1, 100]`. If `C` is too small (e.g. `C=1`), the model has limited accuracy; as `C` gets bigger, the accuracy increases. However, the accuracy starts to decrease when `C` is too big (`C=101`). It makes sense because if `C` is too big, we penalize the model too much on its regularity and thus lose performance. "
   ]
  },
  {
   "cell_type": "code",
   "execution_count": 12,
   "metadata": {},
   "outputs": [
    {
     "name": "stdout",
     "output_type": "stream",
     "text": [
      "Accuracy of svm (c = 1) is 0.44\n",
      "Accuracy of svm (c = 26) is 0.51\n",
      "Accuracy of svm (c = 51) is 0.51\n",
      "Accuracy of svm (c = 76) is 0.51\n",
      "Accuracy of svm (c = 101) is 0.49\n",
      "Accuracy of svm (c = 126) is 0.49\n",
      "Accuracy of svm (c = 151) is 0.48\n",
      "Accuracy of svm (c = 176) is 0.48\n",
      "Accuracy of svm (c = 201) is 0.47\n",
      "Accuracy of svm (c = 226) is 0.47\n",
      "Accuracy of svm (c = 251) is 0.46\n",
      "Accuracy of svm (c = 276) is 0.46\n",
      "Accuracy of svm (c = 301) is 0.45\n",
      "Accuracy of svm (c = 326) is 0.45\n",
      "Accuracy of svm (c = 351) is 0.43\n",
      "Accuracy of svm (c = 376) is 0.43\n",
      "Accuracy of svm (c = 401) is 0.44\n",
      "Accuracy of svm (c = 426) is 0.43\n",
      "Accuracy of svm (c = 451) is 0.43\n",
      "Accuracy of svm (c = 476) is 0.42\n"
     ]
    }
   ],
   "source": [
    "for c in range(1, 500, 25): \n",
    "    svm_experiment_c(X_train, y_train, X_val, y_val, c)"
   ]
  },
  {
   "cell_type": "markdown",
   "metadata": {},
   "source": [
    "To find the best `C`, we then perform a fine search over the interval `[1, 100]`. We see that the interval `[21, 28]` gives the best accuracy. Thus, pick `C` around the center (`C=24`). "
   ]
  },
  {
   "cell_type": "code",
   "execution_count": 13,
   "metadata": {},
   "outputs": [
    {
     "name": "stdout",
     "output_type": "stream",
     "text": [
      "Accuracy of svm (c = 1) is 0.44\n",
      "Accuracy of svm (c = 2) is 0.48\n",
      "Accuracy of svm (c = 3) is 0.49\n",
      "Accuracy of svm (c = 4) is 0.50\n",
      "Accuracy of svm (c = 5) is 0.50\n",
      "Accuracy of svm (c = 6) is 0.50\n",
      "Accuracy of svm (c = 7) is 0.51\n",
      "Accuracy of svm (c = 8) is 0.50\n",
      "Accuracy of svm (c = 9) is 0.50\n",
      "Accuracy of svm (c = 10) is 0.50\n",
      "Accuracy of svm (c = 11) is 0.50\n",
      "Accuracy of svm (c = 12) is 0.50\n",
      "Accuracy of svm (c = 13) is 0.50\n",
      "Accuracy of svm (c = 14) is 0.50\n",
      "Accuracy of svm (c = 15) is 0.50\n",
      "Accuracy of svm (c = 16) is 0.50\n",
      "Accuracy of svm (c = 17) is 0.50\n",
      "Accuracy of svm (c = 18) is 0.50\n",
      "Accuracy of svm (c = 19) is 0.50\n",
      "Accuracy of svm (c = 20) is 0.50\n",
      "Accuracy of svm (c = 21) is 0.51\n",
      "Accuracy of svm (c = 22) is 0.51\n",
      "Accuracy of svm (c = 23) is 0.51\n",
      "Accuracy of svm (c = 24) is 0.51\n",
      "Accuracy of svm (c = 25) is 0.51\n",
      "Accuracy of svm (c = 26) is 0.51\n",
      "Accuracy of svm (c = 27) is 0.51\n",
      "Accuracy of svm (c = 28) is 0.51\n",
      "Accuracy of svm (c = 29) is 0.50\n",
      "Accuracy of svm (c = 30) is 0.50\n",
      "Accuracy of svm (c = 31) is 0.50\n",
      "Accuracy of svm (c = 32) is 0.50\n",
      "Accuracy of svm (c = 33) is 0.50\n",
      "Accuracy of svm (c = 34) is 0.50\n",
      "Accuracy of svm (c = 35) is 0.50\n",
      "Accuracy of svm (c = 36) is 0.50\n",
      "Accuracy of svm (c = 37) is 0.50\n",
      "Accuracy of svm (c = 38) is 0.50\n",
      "Accuracy of svm (c = 39) is 0.50\n",
      "Accuracy of svm (c = 40) is 0.51\n",
      "Accuracy of svm (c = 41) is 0.51\n",
      "Accuracy of svm (c = 42) is 0.51\n",
      "Accuracy of svm (c = 43) is 0.51\n",
      "Accuracy of svm (c = 44) is 0.51\n",
      "Accuracy of svm (c = 45) is 0.51\n",
      "Accuracy of svm (c = 46) is 0.51\n",
      "Accuracy of svm (c = 47) is 0.51\n",
      "Accuracy of svm (c = 48) is 0.51\n",
      "Accuracy of svm (c = 49) is 0.51\n",
      "Accuracy of svm (c = 50) is 0.51\n",
      "Accuracy of svm (c = 51) is 0.51\n",
      "Accuracy of svm (c = 52) is 0.51\n",
      "Accuracy of svm (c = 53) is 0.51\n",
      "Accuracy of svm (c = 54) is 0.51\n",
      "Accuracy of svm (c = 55) is 0.51\n",
      "Accuracy of svm (c = 56) is 0.51\n",
      "Accuracy of svm (c = 57) is 0.51\n",
      "Accuracy of svm (c = 58) is 0.51\n",
      "Accuracy of svm (c = 59) is 0.51\n",
      "Accuracy of svm (c = 60) is 0.51\n",
      "Accuracy of svm (c = 61) is 0.51\n",
      "Accuracy of svm (c = 62) is 0.51\n",
      "Accuracy of svm (c = 63) is 0.51\n",
      "Accuracy of svm (c = 64) is 0.51\n",
      "Accuracy of svm (c = 65) is 0.50\n",
      "Accuracy of svm (c = 66) is 0.50\n",
      "Accuracy of svm (c = 67) is 0.50\n",
      "Accuracy of svm (c = 68) is 0.50\n",
      "Accuracy of svm (c = 69) is 0.50\n",
      "Accuracy of svm (c = 70) is 0.50\n",
      "Accuracy of svm (c = 71) is 0.50\n",
      "Accuracy of svm (c = 72) is 0.50\n",
      "Accuracy of svm (c = 73) is 0.50\n",
      "Accuracy of svm (c = 74) is 0.51\n",
      "Accuracy of svm (c = 75) is 0.51\n",
      "Accuracy of svm (c = 76) is 0.51\n",
      "Accuracy of svm (c = 77) is 0.50\n",
      "Accuracy of svm (c = 78) is 0.50\n",
      "Accuracy of svm (c = 79) is 0.50\n",
      "Accuracy of svm (c = 80) is 0.50\n",
      "Accuracy of svm (c = 81) is 0.50\n",
      "Accuracy of svm (c = 82) is 0.51\n",
      "Accuracy of svm (c = 83) is 0.50\n",
      "Accuracy of svm (c = 84) is 0.50\n",
      "Accuracy of svm (c = 85) is 0.50\n",
      "Accuracy of svm (c = 86) is 0.50\n",
      "Accuracy of svm (c = 87) is 0.50\n",
      "Accuracy of svm (c = 88) is 0.50\n",
      "Accuracy of svm (c = 89) is 0.50\n",
      "Accuracy of svm (c = 90) is 0.50\n",
      "Accuracy of svm (c = 91) is 0.50\n",
      "Accuracy of svm (c = 92) is 0.50\n",
      "Accuracy of svm (c = 93) is 0.49\n",
      "Accuracy of svm (c = 94) is 0.49\n",
      "Accuracy of svm (c = 95) is 0.50\n",
      "Accuracy of svm (c = 96) is 0.50\n",
      "Accuracy of svm (c = 97) is 0.50\n",
      "Accuracy of svm (c = 98) is 0.50\n",
      "Accuracy of svm (c = 99) is 0.50\n",
      "Accuracy of svm (c = 100) is 0.49\n"
     ]
    }
   ],
   "source": [
    "for c in range(1, 101, 1): \n",
    "    svm_experiment_c(X_train, y_train, X_val, y_val, c)"
   ]
  },
  {
   "cell_type": "markdown",
   "metadata": {},
   "source": [
    "<div id=\"eval\"></div>"
   ]
  },
  {
   "cell_type": "markdown",
   "metadata": {},
   "source": [
    "## Evaluation"
   ]
  },
  {
   "cell_type": "markdown",
   "metadata": {},
   "source": [
    "### Evaluate on `Train Set`\n",
    "\n",
    "According to `Leonid's` comment in this [post](https://piazza.com/class/jkx37y3y5xj2e8?cid=311), we do not need to report train errors. \n"
   ]
  },
  {
   "cell_type": "markdown",
   "metadata": {},
   "source": [
    "### Evaluate on `Test Set`\n",
    "\n",
    "Summarize accuracy of models: \n",
    "\n",
    "| Model \t| KNN \t| LinearSVM \t|\n",
    "|----------\t|------\t|-----------\t|\n",
    "| Accuracy \t| 0.39 \t| 0.53 \t|\n",
    "\n",
    "#### KNN"
   ]
  },
  {
   "cell_type": "code",
   "execution_count": 14,
   "metadata": {},
   "outputs": [
    {
     "name": "stdout",
     "output_type": "stream",
     "text": [
      "Using nearest neighbor classifier to predict test set categories\n",
      "The accuracy is 0.39\n"
     ]
    },
    {
     "data": {
      "image/png": "[encoded data removed]",
      "text/plain": [
       "<Figure size 576x576 with 2 Axes>"
      ]
     },
     "metadata": {
      "needs_background": "light"
     },
     "output_type": "display_data"
    }
   ],
   "source": [
    "#TODO: YOU CODE nearest_neighbor_classify function from classifers.py\n",
    "print('Using nearest neighbor classifier to predict test set categories')\n",
    "pred_labels_knn = nearest_neighbor_classify(train_image_feats, train_labels, test_image_feats)\n",
    "plt.rcParams[\"figure.figsize\"] = (8,8) # figure size\n",
    "evaluate(test_labels, pred_labels_knn) # evaluate on test set"
   ]
  },
  {
   "cell_type": "markdown",
   "metadata": {},
   "source": [
    "#### SVM"
   ]
  },
  {
   "cell_type": "code",
   "execution_count": 15,
   "metadata": {},
   "outputs": [
    {
     "name": "stdout",
     "output_type": "stream",
     "text": [
      "Using support vector machine to predict test set categories\n",
      "The accuracy is 0.53\n"
     ]
    },
    {
     "data": {
      "image/png": "[encoded data removed]",
      "text/plain": [
       "<Figure size 576x576 with 2 Axes>"
      ]
     },
     "metadata": {
      "needs_background": "light"
     },
     "output_type": "display_data"
    }
   ],
   "source": [
    "#TODO: YOU CODE svm_classify function from classifers.py\n",
    "print('Using support vector machine to predict test set categories')\n",
    "pred_labels_svm = svm_classify(train_image_feats, train_labels, test_image_feats)\n",
    "plt.rcParams[\"figure.figsize\"] = (8,8) # figure size\n",
    "evaluate(test_labels, pred_labels_svm) # evaluate on test set"
   ]
  },
  {
   "cell_type": "markdown",
   "metadata": {},
   "source": [
    "<div id=\"competition\"> </div>"
   ]
  },
  {
   "cell_type": "markdown",
   "metadata": {},
   "source": [
    "## Competition"
   ]
  },
  {
   "cell_type": "markdown",
   "metadata": {},
   "source": [
    "> Note: To make the grading easier, I make the below competition code independent from the above code. Thus, the data are loaded again and shuffled. Thus, its accuracy cannot be compared to the models above. "
   ]
  },
  {
   "cell_type": "code",
   "execution_count": 16,
   "metadata": {},
   "outputs": [],
   "source": [
    "import torch\n",
    "import torch.nn as nn\n",
    "import torch.nn.functional as F\n",
    "from torch.utils.data import Dataset, DataLoader\n",
    "from torch.autograd import Variable\n",
    "import torch.optim as optim\n",
    "import pandas as pd\n",
    "from sklearn.model_selection import KFold\n",
    "\n",
    "\n",
    "import matplotlib.pyplot as plt\n",
    "import math\n",
    "import csv\n",
    "import itertools"
   ]
  },
  {
   "cell_type": "markdown",
   "metadata": {},
   "source": [
    "### Extract SIFT features with locations\n",
    "\n",
    "The dataset provided by the course do not contain locations for descriptors. The following routines are for extracting the xy corrdinate and the 128 dimension descriptor. It runs on `Python2.7`. The script will create two kinds of files in the images folder: `*.shape` and `*.csv`. `*.shape` files stores the width and height of the image; `*.csv` files store the xy coordinate and 128-dim descriptor. "
   ]
  },
  {
   "cell_type": "markdown",
   "metadata": {},
   "source": [
    "The following SIFT feature extraction might take a few minutes. "
   ]
  },
  {
   "cell_type": "code",
   "execution_count": 17,
   "metadata": {},
   "outputs": [],
   "source": [
    "import cv2 as cv\n",
    "def extract_images():\n",
    "    sift = cv.xfeatures2d.SIFT_create()\n",
    "    files = glob.glob('./images/*/*/*.jpg')\n",
    "    for f in files:\n",
    "        extract_sifts_one_image(sift, f)\n",
    "\n",
    "# extract the sift features with x y coordinates of one image\n",
    "# This extraction code is modified from the OpenCV documentation example for SIFT \n",
    "def extract_sifts_one_image(sift, fname):\n",
    "    longfname = fname\n",
    "    img = cv.imread(longfname)\n",
    "    gray= cv.cvtColor(img,cv.COLOR_BGR2GRAY)\n",
    "    \n",
    "    # image dimension\n",
    "    height, width, _ = img.shape \n",
    "    \n",
    "    # keypoints and descriptors\n",
    "    kp, des = sift.detectAndCompute(gray, None)\n",
    "\n",
    "    trainpts = []\n",
    "    for i in range(len(kp)):\n",
    "        \n",
    "        # onept: 130 dim vector\n",
    "        # first two elements are x and y \n",
    "        # the rest is the 128 dim desciptor\n",
    "        onept = np.insert(des[i], 0, list(kp[i].pt))\n",
    "        trainpts.append(onept)\n",
    "\n",
    "    # store descriptors and their xy coordinates in csv files\n",
    "    np.savetxt(longfname + \".csv\", trainpts, delimiter=\",\")\n",
    "    \n",
    "    # store image dimension in '.shape' files\n",
    "    np.savetxt(longfname + \".shape\", [height, width], delimiter=\",\")\n",
    "    \n",
    "# extract descriptors with locaitons\n",
    "extract_images() "
   ]
  },
  {
   "cell_type": "code",
   "execution_count": 18,
   "metadata": {},
   "outputs": [],
   "source": [
    "# This function does the same thing as sample_images()\n",
    "# but just use a different file extention\n",
    "def sample_images_nn(ds_path, n_sample):\n",
    "    files = glob.glob(os.path.join(ds_path, \"*\", \"*.jpg.csv\"))\n",
    "    n_files = len(files)\n",
    "\n",
    "    if n_sample == None:\n",
    "        n_sample = n_files\n",
    "\n",
    "    # Randomly sample from the training/testing dataset\n",
    "    # Depending on the purpose, we might not need to use the entire dataset\n",
    "    idx = np.random.choice(n_files, size=n_sample, replace=False)\n",
    "    image_paths = np.asarray(files)[idx]\n",
    " \n",
    "    # Get class labels\n",
    "    classes = glob.glob(os.path.join(ds_path, \"*\"))\n",
    "    labels = np.zeros(n_sample)\n",
    "\n",
    "    for i, path in enumerate(image_paths):\n",
    "        folder, fn = os.path.split(path)\n",
    "        labels[i] = np.argwhere(np.core.defchararray.equal(classes, folder))[0,0]\n",
    "\n",
    "    return image_paths, labels\n",
    "\n",
    "\n",
    "# This function does the same thing as build_vocabulary(). \n",
    "# It just handle reading a bit differently \n",
    "# because now that each keypoint contains x-y coordinate\n",
    "# and 128 descriptor (total 130). \n",
    "def build_vocabulary_nn(image_paths, vocab_size):\n",
    "\n",
    "    n_image = len(image_paths)\n",
    "\n",
    "    # Since want to sample tens of thousands of SIFT descriptors from different images, we\n",
    "    # calculate the number of SIFT descriptors we need to sample from each image.\n",
    "    n_each = int(np.ceil(20000 / n_image))  # You can adjust 10000 if more is desired\n",
    "    \n",
    "    # Initialize an array of features, which will store the sampled descriptors\n",
    "    features = np.zeros((n_image * n_each, 128))\n",
    "    \n",
    "    start_i = 0 # current index to insert new descriptors into 'features'\n",
    "    print(\"Fetching descriptors ..\")\n",
    "    # TODO: Randomly sample n_each features from descriptors, and store them in features\n",
    "    for i, path in enumerate(image_paths):\n",
    "        # Load SIFT features from path\n",
    "        descriptors = np.array(list(csv.reader(open(path, \"r\"), delimiter=\",\"))).astype(\"float\")\n",
    "        \n",
    "        # extract 128 dimention descriptor (the first two numbers are for xy-coordinate)\n",
    "        # I skip reading xy-coordinate in this function. \n",
    "        descriptors = descriptors[:, 2:] \n",
    "        \n",
    "        # number of descriptors in this image\n",
    "        max_len = descriptors.shape[0]\n",
    "        \n",
    "        if n_each <= max_len: \n",
    "            # choose `n_each` descriptors out of `max_len` descriptors with no replacement. \n",
    "            ind = np.random.choice(max_len, n_each, replace=False) \n",
    "            features[start_i:(start_i+n_each)] = descriptors[ind]\n",
    "            \n",
    "            # update the starting index of the next iteration\n",
    "            start_i += n_each\n",
    "        else: \n",
    "            # add all descriptors (because we don't have `n_each` amount)\n",
    "            features[start_i:(start_i+descriptors.shape[0])] = descriptors\n",
    "            \n",
    "            # update the starting index of the next iteration\n",
    "            start_i += descriptors.shape[0]\n",
    "\n",
    "    # `start_i` also denotes the number of added descriptor\n",
    "    features = features[:start_i] # remove remaining unused space\n",
    "        \n",
    "    print(\"Constructing KMeans ..\")\n",
    "    # TODO: pefrom k-means clustering to cluster sampled SIFT features into vocab_size regions.\n",
    "    kmeans = KMeans(n_clusters=vocab_size, random_state=0, max_iter=40000).fit(features)\n",
    "    print(\"Done KMeans\")\n",
    "    return kmeans\n",
    "\n",
    "# load the xy coordinate and the cluster id of the descriptor\n",
    "def get_spatial_features(image_paths, kmeans):\n",
    "    n_image = len(image_paths)\n",
    "    images = []\n",
    "    \n",
    "    print('Computing spatial features ..')\n",
    "    \n",
    "    # handling single image in each iteration\n",
    "    for i, path in enumerate(image_paths):\n",
    "\n",
    "        \n",
    "        # Load image height and width\n",
    "        # 'path' looks like \"xxxx.jpg.txt\"\n",
    "        # Modify the path in the form \"xxxx.jpg.shape\" \n",
    "        # which stores the image dimension\n",
    "        dim = np.array(list(csv.reader(open(path[:-3]+\"shape\", \"r\"), delimiter=\",\"))).astype(\"float\")\n",
    "        \n",
    "        # Load image descriptors\n",
    "        descriptors = np.array(list(csv.reader(open(path, \"r\"), delimiter=\",\"))).astype(\"float\")\n",
    "        \n",
    "        # extract xy-coordinates \n",
    "        positions = descriptors[:, 0:2] \n",
    "        \n",
    "        # extract the 128-dim descriptor \n",
    "        descriptors = descriptors[:, 2:] \n",
    "        \n",
    "        # Assign each descriptor to the closest cluster center\n",
    "        labels = kmeans.predict(descriptors)\n",
    "        \n",
    "        image = {}\n",
    "        image[\"pos\"] = positions\n",
    "        image[\"cluster_label\"] = labels\n",
    "        image[\"dim\"] = dim.squeeze() # height, width\n",
    "        \n",
    "        # store descirptor positions, assigned cluster ids, and image dimension\n",
    "        images.append(image)\n",
    "\n",
    "    return images\n",
    "\n",
    "# For level 2 of the spatial pyramid\n",
    "# compute the block id for a descriptor at (x, y) on an image with size width x height\n",
    "def get_block_id(x, y, width, height): \n",
    "    block_width = width/4.0\n",
    "    block_height = height/4.0\n",
    "\n",
    "    block_id_x = int(math.ceil(x / block_width)) - 1\n",
    "    block_id_y = int(math.ceil(y / block_height)) - 1\n",
    "\n",
    "    # handle (0, :) or (:, 0) case\n",
    "    block_id_x = 0 if block_id_x < 0 else block_id_x\n",
    "    block_id_y = 0 if block_id_y < 0 else block_id_y\n",
    "        \n",
    "    return (block_id_x, block_id_y)\n",
    "\n",
    "# This function implements the spatial pyramid method in Lazebnik, 2006\n",
    "def build_hist_one_image(image, kmeans): \n",
    "    # a list of keypoint positions\n",
    "    pos = image[\"pos\"]\n",
    "    \n",
    "    # a list of cluster ids which the keypoint is classied to\n",
    "    cluster_label = image[\"cluster_label\"]\n",
    "    \n",
    "    height, width = list(image['dim'])\n",
    "    \n",
    "    vocab_size = int(kmeans.cluster_centers_.shape[0])\n",
    "    \n",
    "    # block_y, block_x, histogram\n",
    "    hist1 = np.zeros((2, 2, vocab_size))\n",
    "    hist2 = np.zeros((4, 4, vocab_size))\n",
    "    \n",
    "    \n",
    "    num_pts = pos.shape[0]\n",
    "    \n",
    "    i = 0 \n",
    "    for i in range(num_pts):\n",
    "        x, y = pos[i]\n",
    "        assert x <= width and y <= height, \"(x,y) is out of bound\"\n",
    "        \n",
    "        # figure out block position of level 2 pyramid for (x,y)\n",
    "        block_id_x, block_id_y = get_block_id(x, y, width, height)\n",
    "        \n",
    "        # Level 2 histogram\n",
    "        # increment level 2 counts for the histogram\n",
    "        hist2[block_id_y, block_id_x][cluster_label[i]] += 1\n",
    "        \n",
    "    # Merging histograms to lower levels\n",
    "    # Level 1 histogram    \n",
    "    hist1[0, 0] = hist2[0, 0] + hist2[0, 1] + hist2[1, 0] + hist2[1, 1]\n",
    "    hist1[0, 1] = hist2[0, 2] + hist2[0, 3] + hist2[1, 2] + hist2[1, 3]\n",
    "    hist1[1, 0] = hist2[2, 0] + hist2[2, 1] + hist2[3, 0] + hist2[3, 1]\n",
    "    hist1[1, 1] = hist2[2, 2] + hist2[2, 3] + hist2[3, 2] + hist2[3, 3]\n",
    "    \n",
    "    # Level 0 histogram\n",
    "    hist0 = hist1[0, 0] + hist1[0, 1] + hist1[1, 0] + hist1[1, 1]\n",
    "    \n",
    "    # stack all histograms into 1D vector\n",
    "    hist = np.concatenate((hist0.reshape(-1), hist1.reshape(-1)), axis=0)\n",
    "    hist = np.concatenate((hist, hist2.reshape(-1)), axis=0)  \n",
    "    return hist\n",
    "\n",
    "def get_bags_of_hists(images, kmeans):\n",
    "    vocab_size = kmeans.cluster_centers_.shape[0]\n",
    "    n_image = len(images)\n",
    "    \n",
    "    # each image has (1+4+16) histograms\n",
    "    # thus, vocab_size*(1+4+16) dimension\n",
    "    image_feats = np.zeros((n_image, vocab_size*(1+4+16)))\n",
    "    \n",
    "    for i, image in enumerate(images):\n",
    "        hist = build_hist_one_image(image, kmeans)\n",
    "        \n",
    "        # store the histogram for this image\n",
    "        image_feats[i] = hist\n",
    "\n",
    "    return image_feats"
   ]
  },
  {
   "cell_type": "code",
   "execution_count": 19,
   "metadata": {},
   "outputs": [
    {
     "name": "stdout",
     "output_type": "stream",
     "text": [
      "Getting paths and labels for all train and test data\n"
     ]
    }
   ],
   "source": [
    "# fix seed to reproduce\n",
    "np.random.seed(2)\n",
    "torch.manual_seed(2)\n",
    "\n",
    "print('Getting paths and labels for all train and test data')\n",
    "train_image_paths, train_labels = sample_images_nn(\"images/train\", n_sample=1500)\n",
    "test_image_paths, test_labels = sample_images_nn(\"images/test\", n_sample=100)\n",
    "\n",
    "# shuffle all data for uniform dataset\n",
    "ind = list(range(train_image_paths.shape[0]))\n",
    "train_image_paths = train_image_paths[ind]\n",
    "train_labels = train_labels[ind]\n",
    "\n",
    "ind = list(range(test_image_paths.shape[0]))\n",
    "test_image_paths = test_image_paths[ind]\n",
    "test_labels = test_labels[ind]"
   ]
  },
  {
   "cell_type": "markdown",
   "metadata": {},
   "source": [
    "The following feature extraction procedure might take a few minutes. "
   ]
  },
  {
   "cell_type": "code",
   "execution_count": 20,
   "metadata": {},
   "outputs": [
    {
     "name": "stdout",
     "output_type": "stream",
     "text": [
      "Extracting SIFT features\n",
      "Fetching descriptors ..\n",
      "Constructing KMeans ..\n",
      "Done KMeans\n",
      "Computing spatial features ..\n",
      "Computing spatial features ..\n"
     ]
    }
   ],
   "source": [
    "print('Extracting SIFT features')\n",
    "kmeans = build_vocabulary_nn(train_image_paths, vocab_size=200) \n",
    "\n",
    "train_images = get_spatial_features(train_image_paths, kmeans) \n",
    "test_images = get_spatial_features(test_image_paths, kmeans)"
   ]
  },
  {
   "cell_type": "code",
   "execution_count": 21,
   "metadata": {},
   "outputs": [],
   "source": [
    "train_image_feats = get_bags_of_hists(train_images, kmeans)\n",
    "test_image_feats = get_bags_of_hists(test_images, kmeans)"
   ]
  },
  {
   "cell_type": "markdown",
   "metadata": {},
   "source": [
    "### Model"
   ]
  },
  {
   "cell_type": "code",
   "execution_count": 22,
   "metadata": {},
   "outputs": [],
   "source": [
    "class Net(nn.Module):\n",
    "    def __init__(self, activation, dropout_rate, mid_dim):\n",
    "        super(Net, self).__init__()\n",
    "        \n",
    "        self.dropout = nn.Dropout(p=dropout_rate)\n",
    "        \n",
    "        # 1 + 4 + 16 is not hyperparameter\n",
    "        # it is the number of histograms from spatial pyramid\n",
    "        # 200 is the vocabulary size\n",
    "        self.fc1 = nn.Linear(200*(1+4+16), mid_dim)\n",
    "        self.fc2 = nn.Linear(mid_dim, 15) # 15 classes\n",
    "        self.act = activation # activation function\n",
    "\n",
    "    def forward(self, x):\n",
    "        # fully-connected layer with activation function\n",
    "        x = self.act(self.fc1(x))\n",
    "        \n",
    "        # dropout and then another fulling connected layer\n",
    "        x = self.dropout(x)\n",
    "        x = self.fc2(x)\n",
    "        return x"
   ]
  },
  {
   "cell_type": "markdown",
   "metadata": {},
   "source": [
    "### Data Loading and Cross Validation Functions"
   ]
  },
  {
   "cell_type": "code",
   "execution_count": 23,
   "metadata": {},
   "outputs": [],
   "source": [
    "# implement Dataset class to do batching\n",
    "class SIFTDataset(Dataset):\n",
    "    def __init__(self, X_train, y_train):\n",
    "        self.X_train = X_train\n",
    "        self.y_train = y_train\n",
    "\n",
    "    def __len__(self):\n",
    "        return self.y_train.shape[0]\n",
    "\n",
    "    def __getitem__(self, idx):\n",
    "        sift = self.X_train[idx]\n",
    "        label = self.y_train[idx]\n",
    "        return (sift, label)\n",
    "    \n",
    "# This procedure does a k-fold cross validation on the training data\n",
    "# Parameters are included in 'combinaion'\n",
    "def cross_validate(X_train, y_train, combination):   \n",
    "    K = 4 # folds for cross validation\n",
    "    kf = KFold(n_splits=K) \n",
    "    k = 0\n",
    "    total_acc = 0.0 # total accuracy\n",
    "    for train_idx, test_idx in kf.split(X_train):\n",
    "        k += 1\n",
    "        # perform validation on one fold\n",
    "        acc = cross_validate_iter(X_train[train_idx], y_train[train_idx], X_train[test_idx], y_train[test_idx], \\\n",
    "                                  combination)\n",
    "        total_acc += acc # sum up accuracy for the fold\n",
    "        print(\"Fold-%d result: accuracy = %.4f\" %\\\n",
    "              (k, acc))\n",
    "    return total_acc/K # return the average accuracy\n",
    "\n",
    "# This procedure perform validation on a set of hyperparameters \n",
    "# X_train, X_test are from the k-fold split of the **training** dataset. \n",
    "def cross_validate_iter(X_train, y_train, X_test, y_test, combination):\n",
    "    # fixed seed\n",
    "    np.random.seed(1)\n",
    "    torch.manual_seed(1)\n",
    "    \n",
    "    # extract hyperparameters\n",
    "    activation = combination[0]\n",
    "    dropout_rate = combination[1]\n",
    "    mid_dim = combination[2]\n",
    "    num_epoch = combination[3]\n",
    "    \n",
    "    # load dataset \n",
    "    trainset = SIFTDataset(X_train, y_train)\n",
    "    dataloader = DataLoader(trainset, batch_size=100,\n",
    "                            shuffle=True, num_workers=4)\n",
    "    \n",
    "    # cross entropy loss\n",
    "    criterion = nn.CrossEntropyLoss()\n",
    "    \n",
    "    # construct neural net\n",
    "    net = Net(activation, dropout_rate, mid_dim)\n",
    "    \n",
    "    optimizer = optim.Adam(net.parameters(), lr = 0.01)\n",
    "    \n",
    "    # train model with specified parameters\n",
    "    train_nn(net, optimizer, criterion, dataloader, num_epoch, verbose=False)\n",
    "    \n",
    "    # compute accuracy\n",
    "    accuracy = evaluateNN_val(net, X_test, y_test)\n",
    "    return accuracy\n",
    "\n",
    "# training procedure\n",
    "# Note: this procedure is modified from pytorch.org tutorial\n",
    "def train_nn(net, optimizer, criterion, dataloader, num_epoch, print_every=3, verbose=True):\n",
    "    \n",
    "    net.to(device) # move network to GPU if there exists. \n",
    "\n",
    "    for epoch in range(num_epoch):  # loop over the dataset multiple times\n",
    "\n",
    "        running_loss = 0.0\n",
    "        for i, data in enumerate(dataloader, 0):\n",
    "            # get the inputs\n",
    "            inputs, labels = data\n",
    "            \n",
    "            # move data to GPU if there exists\n",
    "            inputs = Variable(inputs).to(device) \n",
    "            labels = Variable(labels).to(device)\n",
    "\n",
    "            optimizer.zero_grad()\n",
    "            \n",
    "            # compute results\n",
    "            outputs = net(inputs)\n",
    "            \n",
    "            loss = criterion(outputs, labels)\n",
    "            loss.backward()\n",
    "            optimizer.step()\n",
    "            \n",
    "            # print statistics\n",
    "            running_loss += loss\n",
    "            if verbose: \n",
    "                if i % print_every == 0:\n",
    "                    print('[%d, %5d] loss: %.3f' %\n",
    "                          (epoch + 1, i + 1, running_loss / print_every))\n",
    "                    running_loss = 0.0\n",
    "    if verbose: \n",
    "        print('Finished Training')\n",
    "\n",
    "# this function is a wrapper of evaluate() for neural network\n",
    "def evaluateNN(model, X, y): \n",
    "    model.to(torch.device('cpu'))\n",
    "    # switch to evaluation mode\n",
    "    model = model.eval()\n",
    "\n",
    "    # prediction\n",
    "    X = Variable(X)    \n",
    "    X_out = model(X)\n",
    "    _, predicted = torch.max(X_out, 1) # pick most likely label\n",
    "    \n",
    "    # evaluate and plot confusion matrix\n",
    "    evaluate(y.numpy(), predicted.numpy())\n",
    "    \n",
    "# this function does the same as the above\n",
    "# but does not plot confusion matrix and returns the accuracy instead\n",
    "def evaluateNN_val(model, X, y): \n",
    "    model.to(torch.device('cpu'))\n",
    "    model = model.eval()\n",
    "    X = Variable(X)\n",
    "    X_out = model(X)\n",
    "    _, predicted = torch.max(X_out, 1)\n",
    "    return getAccuracy(y.numpy(), predicted.numpy())"
   ]
  },
  {
   "cell_type": "markdown",
   "metadata": {},
   "source": [
    "### Grid Search Functions"
   ]
  },
  {
   "cell_type": "code",
   "execution_count": 24,
   "metadata": {},
   "outputs": [],
   "source": [
    "# Get all possible combinations of hyperparameters\n",
    "# Modified from this post\n",
    "# https://stackoverflow.com/questions/38721847/python-generate-all-combination-from-values-in-dict-of-lists\n",
    "def get_combinations(param):\n",
    "    allNames = param\n",
    "    combinations = itertools.product(*(param[Name] for Name in allNames))\n",
    "    return allNames, list(combinations)\n",
    "\n",
    "# perform grid-search on the set of hyperparameters \n",
    "def grid_search(X_train, y_train, param): \n",
    "    \n",
    "    # create dataframe for later visualization\n",
    "    names = list(param.keys())\n",
    "    names.append('avg_accuracy')\n",
    "    df = pd.DataFrame(columns=names)\n",
    "    \n",
    "    # loop over all possible combination of hyper parameters\n",
    "    keys, combos = get_combinations(param)\n",
    "    best_combo = None\n",
    "    best_acc = 0.0 \n",
    "    for i, combo in enumerate(combos, 1): \n",
    "        print(\"Current Combo [%d/%d]: \"%(i, len(combos)))\n",
    "        print(list(zip(keys, combo)))\n",
    "        \n",
    "        # cross-validate on this combination of hyperparameters\n",
    "        avg_acc = cross_validate(X_train, y_train, combo)\n",
    "        print(\"-> Average acc = %.4f\\n\" %(avg_acc))\n",
    "        \n",
    "        if avg_acc > best_acc: \n",
    "            best_acc = avg_acc\n",
    "            best_combo = combo\n",
    "        \n",
    "        # store results of the evaluation \n",
    "        # visualize it later\n",
    "        entry = list(combo)\n",
    "        entry.append(avg_acc)\n",
    "        record = pd.DataFrame([entry], columns=names)\n",
    "        df = df.append(record)\n",
    "    \n",
    "    print(\"Best combo (acc = %.4f): \\n\" % (best_acc))\n",
    "    print(list(zip(keys, best_combo)))\n",
    "    return df # return the evaluation results"
   ]
  },
  {
   "cell_type": "markdown",
   "metadata": {},
   "source": [
    "### Grid Search Cross Validation Starts"
   ]
  },
  {
   "cell_type": "code",
   "execution_count": 25,
   "metadata": {},
   "outputs": [],
   "source": [
    "# wrap numpy data type with tensors\n",
    "X_train = torch.FloatTensor(train_image_feats)\n",
    "y_train = torch.LongTensor(train_labels)\n",
    "X_test = torch.FloatTensor(test_image_feats)\n",
    "y_test = torch.LongTensor(test_labels)\n",
    "\n",
    "device = torch.device(\"cuda:0\" if torch.cuda.is_available() else \"cpu\")"
   ]
  },
  {
   "cell_type": "code",
   "execution_count": 26,
   "metadata": {},
   "outputs": [
    {
     "name": "stdout",
     "output_type": "stream",
     "text": [
      "Current Combo [1/24]: \n",
      "[('activation', <built-in method tanh of type object at 0x7fd55df5e640>), ('dropout_rate', 0), ('mid_dim', 1500), ('num_epoch', 20)]\n",
      "Fold-1 result: accuracy = 0.5653\n",
      "Fold-2 result: accuracy = 0.5627\n",
      "Fold-3 result: accuracy = 0.5947\n",
      "Fold-4 result: accuracy = 0.5733\n",
      "-> Average acc = 0.5740\n",
      "\n",
      "Current Combo [2/24]: \n",
      "[('activation', <built-in method tanh of type object at 0x7fd55df5e640>), ('dropout_rate', 0), ('mid_dim', 1500), ('num_epoch', 40)]\n",
      "Fold-1 result: accuracy = 0.5573\n",
      "Fold-2 result: accuracy = 0.5813\n",
      "Fold-3 result: accuracy = 0.5680\n",
      "Fold-4 result: accuracy = 0.5760\n",
      "-> Average acc = 0.5707\n",
      "\n",
      "Current Combo [3/24]: \n",
      "[('activation', <built-in method tanh of type object at 0x7fd55df5e640>), ('dropout_rate', 0), ('mid_dim', 1500), ('num_epoch', 50)]\n",
      "Fold-1 result: accuracy = 0.5493\n",
      "Fold-2 result: accuracy = 0.5813\n",
      "Fold-3 result: accuracy = 0.5893\n",
      "Fold-4 result: accuracy = 0.5893\n",
      "-> Average acc = 0.5773\n",
      "\n",
      "Current Combo [4/24]: \n",
      "[('activation', <built-in method tanh of type object at 0x7fd55df5e640>), ('dropout_rate', 0), ('mid_dim', 2000), ('num_epoch', 20)]\n",
      "Fold-1 result: accuracy = 0.5680\n",
      "Fold-2 result: accuracy = 0.5760\n",
      "Fold-3 result: accuracy = 0.6000\n",
      "Fold-4 result: accuracy = 0.5467\n",
      "-> Average acc = 0.5727\n",
      "\n",
      "Current Combo [5/24]: \n",
      "[('activation', <built-in method tanh of type object at 0x7fd55df5e640>), ('dropout_rate', 0), ('mid_dim', 2000), ('num_epoch', 40)]\n",
      "Fold-1 result: accuracy = 0.5787\n",
      "Fold-2 result: accuracy = 0.5760\n",
      "Fold-3 result: accuracy = 0.5973\n",
      "Fold-4 result: accuracy = 0.6000\n",
      "-> Average acc = 0.5880\n",
      "\n",
      "Current Combo [6/24]: \n",
      "[('activation', <built-in method tanh of type object at 0x7fd55df5e640>), ('dropout_rate', 0), ('mid_dim', 2000), ('num_epoch', 50)]\n",
      "Fold-1 result: accuracy = 0.5787\n",
      "Fold-2 result: accuracy = 0.5760\n",
      "Fold-3 result: accuracy = 0.5973\n",
      "Fold-4 result: accuracy = 0.5893\n",
      "-> Average acc = 0.5853\n",
      "\n",
      "Current Combo [7/24]: \n",
      "[('activation', <built-in method tanh of type object at 0x7fd55df5e640>), ('dropout_rate', 0.2), ('mid_dim', 1500), ('num_epoch', 20)]\n",
      "Fold-1 result: accuracy = 0.5253\n",
      "Fold-2 result: accuracy = 0.4907\n",
      "Fold-3 result: accuracy = 0.4533\n",
      "Fold-4 result: accuracy = 0.5120\n",
      "-> Average acc = 0.4953\n",
      "\n",
      "Current Combo [8/24]: \n",
      "[('activation', <built-in method tanh of type object at 0x7fd55df5e640>), ('dropout_rate', 0.2), ('mid_dim', 1500), ('num_epoch', 40)]\n",
      "Fold-1 result: accuracy = 0.4907\n",
      "Fold-2 result: accuracy = 0.4853\n",
      "Fold-3 result: accuracy = 0.5013\n",
      "Fold-4 result: accuracy = 0.4933\n",
      "-> Average acc = 0.4927\n",
      "\n",
      "Current Combo [9/24]: \n",
      "[('activation', <built-in method tanh of type object at 0x7fd55df5e640>), ('dropout_rate', 0.2), ('mid_dim', 1500), ('num_epoch', 50)]\n",
      "Fold-1 result: accuracy = 0.4053\n",
      "Fold-2 result: accuracy = 0.4027\n",
      "Fold-3 result: accuracy = 0.4907\n",
      "Fold-4 result: accuracy = 0.4560\n",
      "-> Average acc = 0.4387\n",
      "\n",
      "Current Combo [10/24]: \n",
      "[('activation', <built-in method tanh of type object at 0x7fd55df5e640>), ('dropout_rate', 0.2), ('mid_dim', 2000), ('num_epoch', 20)]\n",
      "Fold-1 result: accuracy = 0.4747\n",
      "Fold-2 result: accuracy = 0.4987\n",
      "Fold-3 result: accuracy = 0.4853\n",
      "Fold-4 result: accuracy = 0.4347\n",
      "-> Average acc = 0.4733\n",
      "\n",
      "Current Combo [11/24]: \n",
      "[('activation', <built-in method tanh of type object at 0x7fd55df5e640>), ('dropout_rate', 0.2), ('mid_dim', 2000), ('num_epoch', 40)]\n",
      "Fold-1 result: accuracy = 0.3627\n",
      "Fold-2 result: accuracy = 0.4773\n",
      "Fold-3 result: accuracy = 0.4853\n",
      "Fold-4 result: accuracy = 0.4000\n",
      "-> Average acc = 0.4313\n",
      "\n",
      "Current Combo [12/24]: \n",
      "[('activation', <built-in method tanh of type object at 0x7fd55df5e640>), ('dropout_rate', 0.2), ('mid_dim', 2000), ('num_epoch', 50)]\n",
      "Fold-1 result: accuracy = 0.4613\n",
      "Fold-2 result: accuracy = 0.4240\n",
      "Fold-3 result: accuracy = 0.4693\n",
      "Fold-4 result: accuracy = 0.4453\n",
      "-> Average acc = 0.4500\n",
      "\n",
      "Current Combo [13/24]: \n",
      "[('activation', <built-in method cos of type object at 0x7fd55df5e640>), ('dropout_rate', 0), ('mid_dim', 1500), ('num_epoch', 20)]\n",
      "Fold-1 result: accuracy = 0.0640\n",
      "Fold-2 result: accuracy = 0.0640\n",
      "Fold-3 result: accuracy = 0.0933\n",
      "Fold-4 result: accuracy = 0.0773\n",
      "-> Average acc = 0.0747\n",
      "\n",
      "Current Combo [14/24]: \n",
      "[('activation', <built-in method cos of type object at 0x7fd55df5e640>), ('dropout_rate', 0), ('mid_dim', 1500), ('num_epoch', 40)]\n",
      "Fold-1 result: accuracy = 0.0640\n",
      "Fold-2 result: accuracy = 0.0720\n",
      "Fold-3 result: accuracy = 0.0720\n",
      "Fold-4 result: accuracy = 0.0720\n",
      "-> Average acc = 0.0700\n",
      "\n",
      "Current Combo [15/24]: \n",
      "[('activation', <built-in method cos of type object at 0x7fd55df5e640>), ('dropout_rate', 0), ('mid_dim', 1500), ('num_epoch', 50)]\n",
      "Fold-1 result: accuracy = 0.0640\n",
      "Fold-2 result: accuracy = 0.0747\n",
      "Fold-3 result: accuracy = 0.0640\n",
      "Fold-4 result: accuracy = 0.0667\n",
      "-> Average acc = 0.0673\n",
      "\n",
      "Current Combo [16/24]: \n",
      "[('activation', <built-in method cos of type object at 0x7fd55df5e640>), ('dropout_rate', 0), ('mid_dim', 2000), ('num_epoch', 20)]\n",
      "Fold-1 result: accuracy = 0.0560\n",
      "Fold-2 result: accuracy = 0.0800\n",
      "Fold-3 result: accuracy = 0.0533\n",
      "Fold-4 result: accuracy = 0.0693\n",
      "-> Average acc = 0.0647\n",
      "\n",
      "Current Combo [17/24]: \n",
      "[('activation', <built-in method cos of type object at 0x7fd55df5e640>), ('dropout_rate', 0), ('mid_dim', 2000), ('num_epoch', 40)]\n",
      "Fold-1 result: accuracy = 0.0667\n",
      "Fold-2 result: accuracy = 0.0613\n",
      "Fold-3 result: accuracy = 0.0667\n",
      "Fold-4 result: accuracy = 0.0613\n",
      "-> Average acc = 0.0640\n",
      "\n",
      "Current Combo [18/24]: \n",
      "[('activation', <built-in method cos of type object at 0x7fd55df5e640>), ('dropout_rate', 0), ('mid_dim', 2000), ('num_epoch', 50)]\n",
      "Fold-1 result: accuracy = 0.0560\n",
      "Fold-2 result: accuracy = 0.0640\n",
      "Fold-3 result: accuracy = 0.0720\n",
      "Fold-4 result: accuracy = 0.0640\n",
      "-> Average acc = 0.0640\n",
      "\n",
      "Current Combo [19/24]: \n",
      "[('activation', <built-in method cos of type object at 0x7fd55df5e640>), ('dropout_rate', 0.2), ('mid_dim', 1500), ('num_epoch', 20)]\n",
      "Fold-1 result: accuracy = 0.0613\n",
      "Fold-2 result: accuracy = 0.0613\n",
      "Fold-3 result: accuracy = 0.0773\n",
      "Fold-4 result: accuracy = 0.0720\n",
      "-> Average acc = 0.0680\n",
      "\n",
      "Current Combo [20/24]: \n",
      "[('activation', <built-in method cos of type object at 0x7fd55df5e640>), ('dropout_rate', 0.2), ('mid_dim', 1500), ('num_epoch', 40)]\n",
      "Fold-1 result: accuracy = 0.0640\n",
      "Fold-2 result: accuracy = 0.0613\n",
      "Fold-3 result: accuracy = 0.0747\n",
      "Fold-4 result: accuracy = 0.0773\n",
      "-> Average acc = 0.0693\n",
      "\n",
      "Current Combo [21/24]: \n",
      "[('activation', <built-in method cos of type object at 0x7fd55df5e640>), ('dropout_rate', 0.2), ('mid_dim', 1500), ('num_epoch', 50)]\n",
      "Fold-1 result: accuracy = 0.0347\n",
      "Fold-2 result: accuracy = 0.0720\n",
      "Fold-3 result: accuracy = 0.0693\n",
      "Fold-4 result: accuracy = 0.0613\n",
      "-> Average acc = 0.0593\n",
      "\n",
      "Current Combo [22/24]: \n",
      "[('activation', <built-in method cos of type object at 0x7fd55df5e640>), ('dropout_rate', 0.2), ('mid_dim', 2000), ('num_epoch', 20)]\n",
      "Fold-1 result: accuracy = 0.0587\n",
      "Fold-2 result: accuracy = 0.0587\n",
      "Fold-3 result: accuracy = 0.0773\n",
      "Fold-4 result: accuracy = 0.0533\n",
      "-> Average acc = 0.0620\n",
      "\n",
      "Current Combo [23/24]: \n",
      "[('activation', <built-in method cos of type object at 0x7fd55df5e640>), ('dropout_rate', 0.2), ('mid_dim', 2000), ('num_epoch', 40)]\n",
      "Fold-1 result: accuracy = 0.0693\n",
      "Fold-2 result: accuracy = 0.0587\n",
      "Fold-3 result: accuracy = 0.0933\n",
      "Fold-4 result: accuracy = 0.0613\n",
      "-> Average acc = 0.0707\n",
      "\n",
      "Current Combo [24/24]: \n",
      "[('activation', <built-in method cos of type object at 0x7fd55df5e640>), ('dropout_rate', 0.2), ('mid_dim', 2000), ('num_epoch', 50)]\n",
      "Fold-1 result: accuracy = 0.0640\n",
      "Fold-2 result: accuracy = 0.0667\n",
      "Fold-3 result: accuracy = 0.0560\n",
      "Fold-4 result: accuracy = 0.0827\n",
      "-> Average acc = 0.0673\n",
      "\n",
      "Best combo (acc = 0.5880): \n",
      "\n",
      "[('activation', <built-in method tanh of type object at 0x7fd55df5e640>), ('dropout_rate', 0), ('mid_dim', 2000), ('num_epoch', 40)]\n"
     ]
    }
   ],
   "source": [
    "param = {\n",
    "    'activation': [torch.tanh, torch.cos], \n",
    "    'dropout_rate': [0, 0.2], \n",
    "    'mid_dim': [1500, 2000],  # the dimension of middle layer\n",
    "    'num_epoch': [20, 40, 50]\n",
    "}\n",
    "\n",
    "# fix seed to reproduce\n",
    "np.random.seed(2)\n",
    "torch.manual_seed(2)\n",
    "df = grid_search(X_train, y_train, param)"
   ]
  },
  {
   "cell_type": "markdown",
   "metadata": {},
   "source": [
    "#### Results of Cross Validation"
   ]
  },
  {
   "cell_type": "code",
   "execution_count": 27,
   "metadata": {},
   "outputs": [
    {
     "data": {
      "text/html": [
       "<div>\n",
       "<style scoped>\n",
       "    .dataframe tbody tr th:only-of-type {\n",
       "        vertical-align: middle;\n",
       "    }\n",
       "\n",
       "    .dataframe tbody tr th {\n",
       "        vertical-align: top;\n",
       "    }\n",
       "\n",
       "    .dataframe thead th {\n",
       "        text-align: right;\n",
       "    }\n",
       "</style>\n",
       "<table border=\"1\" class=\"dataframe\">\n",
       "  <thead>\n",
       "    <tr style=\"text-align: right;\">\n",
       "      <th></th>\n",
       "      <th>activation</th>\n",
       "      <th>dropout_rate</th>\n",
       "      <th>mid_dim</th>\n",
       "      <th>num_epoch</th>\n",
       "      <th>avg_accuracy</th>\n",
       "    </tr>\n",
       "  </thead>\n",
       "  <tbody>\n",
       "    <tr>\n",
       "      <th>0</th>\n",
       "      <td>&lt;built-in method tanh of type object at 0x7fd5...</td>\n",
       "      <td>0</td>\n",
       "      <td>2000</td>\n",
       "      <td>40</td>\n",
       "      <td>0.588000</td>\n",
       "    </tr>\n",
       "    <tr>\n",
       "      <th>0</th>\n",
       "      <td>&lt;built-in method tanh of type object at 0x7fd5...</td>\n",
       "      <td>0</td>\n",
       "      <td>2000</td>\n",
       "      <td>50</td>\n",
       "      <td>0.585333</td>\n",
       "    </tr>\n",
       "    <tr>\n",
       "      <th>0</th>\n",
       "      <td>&lt;built-in method tanh of type object at 0x7fd5...</td>\n",
       "      <td>0</td>\n",
       "      <td>1500</td>\n",
       "      <td>50</td>\n",
       "      <td>0.577333</td>\n",
       "    </tr>\n",
       "    <tr>\n",
       "      <th>0</th>\n",
       "      <td>&lt;built-in method tanh of type object at 0x7fd5...</td>\n",
       "      <td>0</td>\n",
       "      <td>1500</td>\n",
       "      <td>20</td>\n",
       "      <td>0.574000</td>\n",
       "    </tr>\n",
       "    <tr>\n",
       "      <th>0</th>\n",
       "      <td>&lt;built-in method tanh of type object at 0x7fd5...</td>\n",
       "      <td>0</td>\n",
       "      <td>2000</td>\n",
       "      <td>20</td>\n",
       "      <td>0.572667</td>\n",
       "    </tr>\n",
       "    <tr>\n",
       "      <th>0</th>\n",
       "      <td>&lt;built-in method tanh of type object at 0x7fd5...</td>\n",
       "      <td>0</td>\n",
       "      <td>1500</td>\n",
       "      <td>40</td>\n",
       "      <td>0.570667</td>\n",
       "    </tr>\n",
       "    <tr>\n",
       "      <th>0</th>\n",
       "      <td>&lt;built-in method tanh of type object at 0x7fd5...</td>\n",
       "      <td>0.2</td>\n",
       "      <td>1500</td>\n",
       "      <td>20</td>\n",
       "      <td>0.495333</td>\n",
       "    </tr>\n",
       "    <tr>\n",
       "      <th>0</th>\n",
       "      <td>&lt;built-in method tanh of type object at 0x7fd5...</td>\n",
       "      <td>0.2</td>\n",
       "      <td>1500</td>\n",
       "      <td>40</td>\n",
       "      <td>0.492667</td>\n",
       "    </tr>\n",
       "    <tr>\n",
       "      <th>0</th>\n",
       "      <td>&lt;built-in method tanh of type object at 0x7fd5...</td>\n",
       "      <td>0.2</td>\n",
       "      <td>2000</td>\n",
       "      <td>20</td>\n",
       "      <td>0.473333</td>\n",
       "    </tr>\n",
       "    <tr>\n",
       "      <th>0</th>\n",
       "      <td>&lt;built-in method tanh of type object at 0x7fd5...</td>\n",
       "      <td>0.2</td>\n",
       "      <td>2000</td>\n",
       "      <td>50</td>\n",
       "      <td>0.450000</td>\n",
       "    </tr>\n",
       "    <tr>\n",
       "      <th>0</th>\n",
       "      <td>&lt;built-in method tanh of type object at 0x7fd5...</td>\n",
       "      <td>0.2</td>\n",
       "      <td>1500</td>\n",
       "      <td>50</td>\n",
       "      <td>0.438667</td>\n",
       "    </tr>\n",
       "    <tr>\n",
       "      <th>0</th>\n",
       "      <td>&lt;built-in method tanh of type object at 0x7fd5...</td>\n",
       "      <td>0.2</td>\n",
       "      <td>2000</td>\n",
       "      <td>40</td>\n",
       "      <td>0.431333</td>\n",
       "    </tr>\n",
       "    <tr>\n",
       "      <th>0</th>\n",
       "      <td>&lt;built-in method cos of type object at 0x7fd55...</td>\n",
       "      <td>0</td>\n",
       "      <td>1500</td>\n",
       "      <td>20</td>\n",
       "      <td>0.074667</td>\n",
       "    </tr>\n",
       "    <tr>\n",
       "      <th>0</th>\n",
       "      <td>&lt;built-in method cos of type object at 0x7fd55...</td>\n",
       "      <td>0.2</td>\n",
       "      <td>2000</td>\n",
       "      <td>40</td>\n",
       "      <td>0.070667</td>\n",
       "    </tr>\n",
       "    <tr>\n",
       "      <th>0</th>\n",
       "      <td>&lt;built-in method cos of type object at 0x7fd55...</td>\n",
       "      <td>0</td>\n",
       "      <td>1500</td>\n",
       "      <td>40</td>\n",
       "      <td>0.070000</td>\n",
       "    </tr>\n",
       "    <tr>\n",
       "      <th>0</th>\n",
       "      <td>&lt;built-in method cos of type object at 0x7fd55...</td>\n",
       "      <td>0.2</td>\n",
       "      <td>1500</td>\n",
       "      <td>40</td>\n",
       "      <td>0.069333</td>\n",
       "    </tr>\n",
       "    <tr>\n",
       "      <th>0</th>\n",
       "      <td>&lt;built-in method cos of type object at 0x7fd55...</td>\n",
       "      <td>0.2</td>\n",
       "      <td>1500</td>\n",
       "      <td>20</td>\n",
       "      <td>0.068000</td>\n",
       "    </tr>\n",
       "    <tr>\n",
       "      <th>0</th>\n",
       "      <td>&lt;built-in method cos of type object at 0x7fd55...</td>\n",
       "      <td>0</td>\n",
       "      <td>1500</td>\n",
       "      <td>50</td>\n",
       "      <td>0.067333</td>\n",
       "    </tr>\n",
       "    <tr>\n",
       "      <th>0</th>\n",
       "      <td>&lt;built-in method cos of type object at 0x7fd55...</td>\n",
       "      <td>0.2</td>\n",
       "      <td>2000</td>\n",
       "      <td>50</td>\n",
       "      <td>0.067333</td>\n",
       "    </tr>\n",
       "    <tr>\n",
       "      <th>0</th>\n",
       "      <td>&lt;built-in method cos of type object at 0x7fd55...</td>\n",
       "      <td>0</td>\n",
       "      <td>2000</td>\n",
       "      <td>20</td>\n",
       "      <td>0.064667</td>\n",
       "    </tr>\n",
       "    <tr>\n",
       "      <th>0</th>\n",
       "      <td>&lt;built-in method cos of type object at 0x7fd55...</td>\n",
       "      <td>0</td>\n",
       "      <td>2000</td>\n",
       "      <td>40</td>\n",
       "      <td>0.064000</td>\n",
       "    </tr>\n",
       "    <tr>\n",
       "      <th>0</th>\n",
       "      <td>&lt;built-in method cos of type object at 0x7fd55...</td>\n",
       "      <td>0</td>\n",
       "      <td>2000</td>\n",
       "      <td>50</td>\n",
       "      <td>0.064000</td>\n",
       "    </tr>\n",
       "    <tr>\n",
       "      <th>0</th>\n",
       "      <td>&lt;built-in method cos of type object at 0x7fd55...</td>\n",
       "      <td>0.2</td>\n",
       "      <td>2000</td>\n",
       "      <td>20</td>\n",
       "      <td>0.062000</td>\n",
       "    </tr>\n",
       "    <tr>\n",
       "      <th>0</th>\n",
       "      <td>&lt;built-in method cos of type object at 0x7fd55...</td>\n",
       "      <td>0.2</td>\n",
       "      <td>1500</td>\n",
       "      <td>50</td>\n",
       "      <td>0.059333</td>\n",
       "    </tr>\n",
       "  </tbody>\n",
       "</table>\n",
       "</div>"
      ],
      "text/plain": [
       "                                          activation dropout_rate mid_dim  \\\n",
       "0  <built-in method tanh of type object at 0x7fd5...            0    2000   \n",
       "0  <built-in method tanh of type object at 0x7fd5...            0    2000   \n",
       "0  <built-in method tanh of type object at 0x7fd5...            0    1500   \n",
       "0  <built-in method tanh of type object at 0x7fd5...            0    1500   \n",
       "0  <built-in method tanh of type object at 0x7fd5...            0    2000   \n",
       "0  <built-in method tanh of type object at 0x7fd5...            0    1500   \n",
       "0  <built-in method tanh of type object at 0x7fd5...          0.2    1500   \n",
       "0  <built-in method tanh of type object at 0x7fd5...          0.2    1500   \n",
       "0  <built-in method tanh of type object at 0x7fd5...          0.2    2000   \n",
       "0  <built-in method tanh of type object at 0x7fd5...          0.2    2000   \n",
       "0  <built-in method tanh of type object at 0x7fd5...          0.2    1500   \n",
       "0  <built-in method tanh of type object at 0x7fd5...          0.2    2000   \n",
       "0  <built-in method cos of type object at 0x7fd55...            0    1500   \n",
       "0  <built-in method cos of type object at 0x7fd55...          0.2    2000   \n",
       "0  <built-in method cos of type object at 0x7fd55...            0    1500   \n",
       "0  <built-in method cos of type object at 0x7fd55...          0.2    1500   \n",
       "0  <built-in method cos of type object at 0x7fd55...          0.2    1500   \n",
       "0  <built-in method cos of type object at 0x7fd55...            0    1500   \n",
       "0  <built-in method cos of type object at 0x7fd55...          0.2    2000   \n",
       "0  <built-in method cos of type object at 0x7fd55...            0    2000   \n",
       "0  <built-in method cos of type object at 0x7fd55...            0    2000   \n",
       "0  <built-in method cos of type object at 0x7fd55...            0    2000   \n",
       "0  <built-in method cos of type object at 0x7fd55...          0.2    2000   \n",
       "0  <built-in method cos of type object at 0x7fd55...          0.2    1500   \n",
       "\n",
       "  num_epoch  avg_accuracy  \n",
       "0        40      0.588000  \n",
       "0        50      0.585333  \n",
       "0        50      0.577333  \n",
       "0        20      0.574000  \n",
       "0        20      0.572667  \n",
       "0        40      0.570667  \n",
       "0        20      0.495333  \n",
       "0        40      0.492667  \n",
       "0        20      0.473333  \n",
       "0        50      0.450000  \n",
       "0        50      0.438667  \n",
       "0        40      0.431333  \n",
       "0        20      0.074667  \n",
       "0        40      0.070667  \n",
       "0        40      0.070000  \n",
       "0        40      0.069333  \n",
       "0        20      0.068000  \n",
       "0        50      0.067333  \n",
       "0        50      0.067333  \n",
       "0        20      0.064667  \n",
       "0        40      0.064000  \n",
       "0        50      0.064000  \n",
       "0        20      0.062000  \n",
       "0        50      0.059333  "
      ]
     },
     "execution_count": 27,
     "metadata": {},
     "output_type": "execute_result"
    }
   ],
   "source": [
    "# sort results by accuracy in descending order\n",
    "df.sort_values(by=['avg_accuracy'], ascending=False)"
   ]
  },
  {
   "cell_type": "markdown",
   "metadata": {},
   "source": [
    "### Evaluation\n",
    "Train the entire training set and evaluate on the test set. "
   ]
  },
  {
   "cell_type": "code",
   "execution_count": 30,
   "metadata": {},
   "outputs": [
    {
     "name": "stdout",
     "output_type": "stream",
     "text": [
      "[1,     1] loss: 0.274\n",
      "[1,    11] loss: 20.343\n",
      "[2,     1] loss: 1.744\n",
      "[2,    11] loss: 9.314\n",
      "[3,     1] loss: 0.643\n",
      "[3,    11] loss: 4.328\n",
      "[4,     1] loss: 0.187\n",
      "[4,    11] loss: 2.113\n",
      "[5,     1] loss: 0.131\n",
      "[5,    11] loss: 1.330\n",
      "[6,     1] loss: 0.091\n",
      "[6,    11] loss: 0.900\n",
      "[7,     1] loss: 0.068\n",
      "[7,    11] loss: 0.696\n",
      "[8,     1] loss: 0.058\n",
      "[8,    11] loss: 0.566\n",
      "[9,     1] loss: 0.036\n",
      "[9,    11] loss: 0.466\n",
      "[10,     1] loss: 0.033\n",
      "[10,    11] loss: 0.329\n",
      "[11,     1] loss: 0.029\n",
      "[11,    11] loss: 0.262\n",
      "[12,     1] loss: 0.029\n",
      "[12,    11] loss: 0.220\n",
      "[13,     1] loss: 0.028\n",
      "[13,    11] loss: 0.186\n",
      "[14,     1] loss: 0.014\n",
      "[14,    11] loss: 0.179\n",
      "[15,     1] loss: 0.013\n",
      "[15,    11] loss: 0.175\n",
      "[16,     1] loss: 0.013\n",
      "[16,    11] loss: 0.150\n",
      "[17,     1] loss: 0.016\n",
      "[17,    11] loss: 0.136\n",
      "[18,     1] loss: 0.007\n",
      "[18,    11] loss: 0.096\n",
      "[19,     1] loss: 0.007\n",
      "[19,    11] loss: 0.079\n",
      "[20,     1] loss: 0.006\n",
      "[20,    11] loss: 0.065\n",
      "[21,     1] loss: 0.007\n",
      "[21,    11] loss: 0.085\n",
      "[22,     1] loss: 0.008\n",
      "[22,    11] loss: 0.074\n",
      "[23,     1] loss: 0.005\n",
      "[23,    11] loss: 0.057\n",
      "[24,     1] loss: 0.006\n",
      "[24,    11] loss: 0.049\n",
      "[25,     1] loss: 0.004\n",
      "[25,    11] loss: 0.041\n",
      "[26,     1] loss: 0.004\n",
      "[26,    11] loss: 0.030\n",
      "[27,     1] loss: 0.002\n",
      "[27,    11] loss: 0.025\n",
      "[28,     1] loss: 0.002\n",
      "[28,    11] loss: 0.031\n",
      "[29,     1] loss: 0.002\n",
      "[29,    11] loss: 0.019\n",
      "[30,     1] loss: 0.001\n",
      "[30,    11] loss: 0.015\n",
      "[31,     1] loss: 0.001\n",
      "[31,    11] loss: 0.013\n",
      "[32,     1] loss: 0.001\n",
      "[32,    11] loss: 0.009\n",
      "[33,     1] loss: 0.001\n",
      "[33,    11] loss: 0.010\n",
      "[34,     1] loss: 0.001\n",
      "[34,    11] loss: 0.007\n",
      "[35,     1] loss: 0.000\n",
      "[35,    11] loss: 0.008\n",
      "[36,     1] loss: 0.000\n",
      "[36,    11] loss: 0.007\n",
      "[37,     1] loss: 0.001\n",
      "[37,    11] loss: 0.005\n",
      "[38,     1] loss: 0.000\n",
      "[38,    11] loss: 0.006\n",
      "[39,     1] loss: 0.001\n",
      "[39,    11] loss: 0.005\n",
      "[40,     1] loss: 0.001\n",
      "[40,    11] loss: 0.005\n",
      "Finished Training\n"
     ]
    }
   ],
   "source": [
    "# fix seed to reproduce\n",
    "np.random.seed(2)\n",
    "torch.manual_seed(2)\n",
    "\n",
    "# load the entire train set\n",
    "trainset = SIFTDataset(X_train, y_train)\n",
    "dataloader = DataLoader(trainset, batch_size=100, shuffle=True, num_workers=4)\n",
    "\n",
    "criterion = nn.CrossEntropyLoss()\n",
    "\n",
    "# hyperparameter from cross-validation\n",
    "net = Net(torch.tanh, 0, 2000) \n",
    "num_epoch = 40\n",
    "\n",
    "optimizer = optim.Adam(net.parameters(), lr = 0.01)\n",
    "\n",
    "# train the model based on cross-validated hyperparameters\n",
    "train_nn(net, optimizer, criterion, dataloader, num_epoch, print_every=10, verbose=True)"
   ]
  },
  {
   "cell_type": "code",
   "execution_count": 33,
   "metadata": {},
   "outputs": [
    {
     "name": "stdout",
     "output_type": "stream",
     "text": [
      "The accuracy is 0.6400\n"
     ]
    },
    {
     "data": {
      "image/png": "[encoded data removed]",
      "text/plain": [
       "<Figure size 504x504 with 2 Axes>"
      ]
     },
     "metadata": {
      "needs_background": "light"
     },
     "output_type": "display_data"
    }
   ],
   "source": [
    "# fix seed to reproduce\n",
    "np.random.seed(2)\n",
    "torch.manual_seed(2)\n",
    "\n",
    "plt.rcParams[\"figure.figsize\"] = (7,7) # figure size\n",
    "# evaluate accuracy and plot confusion matrix\n",
    "evaluateNN(net, X_test, y_test)"
   ]
  },
  {
   "cell_type": "code",
   "execution_count": null,
   "metadata": {},
   "outputs": [],
   "source": []
  }
 ],
 "metadata": {
  "kernelspec": {
   "display_name": "Python 2",
   "language": "python",
   "name": "python2"
  },
  "language_info": {
   "codemirror_mode": {
    "name": "ipython",
    "version": 2
   },
   "file_extension": ".py",
   "mimetype": "text/x-python",
   "name": "python",
   "nbconvert_exporter": "python",
   "pygments_lexer": "ipython2",
   "version": "2.7.15"
  }
 },
 "nbformat": 4,
 "nbformat_minor": 2
}
